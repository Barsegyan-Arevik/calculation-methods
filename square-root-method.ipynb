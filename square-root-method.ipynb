{
 "cells": [
  {
   "cell_type": "markdown",
   "id": "fba09dcf",
   "metadata": {},
   "source": [
    "<b>Алгоритм метода квадратных корней</b>\n",
    "<ol>\n",
    "    <li>Представить матрицу A в форме <b>A=U<SUP>T</SUP>⋅U</b></li>\n",
    "\n",
    "<li>Составить систему уравнений <b>U<SUP>T</SUP>⋅y=b</b> и найти y</li>\n",
    "\n",
    "<li>Составить систему уравнений <b>U⋅x=y</b> и найти x</li>\n",
    "</ol>"
   ]
  },
  {
   "cell_type": "code",
   "execution_count": 2,
   "id": "eb664f13",
   "metadata": {},
   "outputs": [],
   "source": [
    "import math\n",
    "from math import sqrt\n",
    "from pprint import pprint\n",
    "import numpy as np\n",
    "\n",
    "def matrix_decomposition(matrix):\n",
    "    n = len(matrix)\n",
    "    lower = [[0 for x in range(n)]\n",
    "                for y in range(n)];\n",
    "\n",
    "    for i in range(n):\n",
    "        for j in range(i + 1):\n",
    "            sum1 = 0;\n",
    "\n",
    "            if (j == i):\n",
    "                for k in range(j):\n",
    "                    sum1 += pow(lower[j][k], 2);\n",
    "                lower[j][j] = (math.sqrt(matrix[j][j] - sum1));\n",
    "            else:\n",
    "                for k in range(j):\n",
    "                    sum1 += (lower[i][k] *lower[j][k]);\n",
    "                if(lower[j][j] > 0):\n",
    "                    lower[i][j] = ((matrix[i][j] - sum1) /lower[j][j]);\n",
    "    print(lower)\n",
    "    return lower"
   ]
  },
  {
   "cell_type": "code",
   "execution_count": 3,
   "id": "fa59e34c",
   "metadata": {},
   "outputs": [],
   "source": [
    "def get_the_finished_matrix(scalar, D, C):\n",
    "    n = len(C)\n",
    "    numrows = len(C)   \n",
    "    numcols = len(C[0])\n",
    "    \n",
    "    for numrow in range(numrows):\n",
    "        for numkol in range(numcols):\n",
    "            C[numrow][numkol] = round(scalar*C[numrow][numkol], 2)\n",
    "    \n",
    "    A = D + C\n",
    "    return A"
   ]
  },
  {
   "cell_type": "markdown",
   "id": "1c103ae0",
   "metadata": {},
   "source": [
    "<h3><b>y<sub>1</sub> = b<sub>1</sub>/t<sub>11</sub>\n",
    "<br> y<sub>i</sub> = (b<sub>i</sub> - $\\sum_{k=1} ^{i-1}$t<sub>ki</sub>y<sub>k</sub>)/t<sub>ii</sub></b></h3>"
   ]
  },
  {
   "cell_type": "code",
   "execution_count": 4,
   "id": "601471f2",
   "metadata": {},
   "outputs": [],
   "source": [
    "def find_vector_y(UT, b):\n",
    "    n = len(b)\n",
    "    y = [0.0 for i in range(n)]\n",
    "    y[0] = b[0]/UT[0][0]\n",
    "    for i in range(1, n):\n",
    "        sum = 0\n",
    "        for k in range(i):\n",
    "            sum = sum + UT[k][i]*y[k]\n",
    "        y[i] = (b[i] - sum)/UT[i][i]\n",
    "    return y "
   ]
  },
  {
   "cell_type": "markdown",
   "id": "ffaf6a1f",
   "metadata": {},
   "source": [
    "<h3> <b> x <sub>n</sub> = y <sub>n</sub> / t <sub>nn</sub>\n",
    "<br> x<sub>i</sub> = (y<sub>i</sub> - $\\sum_{k=i+1} ^{n}$t<sub>ik</sub>x<sub>k</sub>)/t<sub>ii</sub></b></h3>"
   ]
  },
  {
   "cell_type": "code",
   "execution_count": 5,
   "id": "cee615fb",
   "metadata": {},
   "outputs": [],
   "source": [
    "def find_vector_x(U, y):\n",
    "    n = len(y)\n",
    "    x = [0.0 for i in range(n)]\n",
    "    x[n-1] = y[n-1]/U[n-1][n-1]\n",
    "    for i in range(n-2, -1, -1):\n",
    "        sum = 0\n",
    "        for k in range(i+1, n):\n",
    "            sum = sum + U[k][i]*x[k]\n",
    "        x[i] = (y[i]- sum)/U[i][i]\n",
    "    return x"
   ]
  },
  {
   "cell_type": "code",
   "execution_count": 10,
   "id": "1ab2f754",
   "metadata": {},
   "outputs": [
    {
     "name": "stdout",
     "output_type": "stream",
     "text": [
      "[[2.240535650240808, 0, 0, 0], [3.1242528987421627, 0.5089634807146706, 0, 0], [2.6779310560647107, -0.7201574934750893, 1.5264528959505497, 0], [2.240535650240808, 0.0, 1.9653406980055195, 1.0665064185288233]]\n",
      "[0.41942874386324425, 1.3474773969661384, 1.1479671777254177, 0.9112196933647496]\n"
     ]
    }
   ],
   "source": [
    "if __name__ == \"__main__\":\n",
    "    D = np.array([[5, 7, 6, 5], [7, 10, 8, 7], [6, 8, 10, 9], [5, 7, 9, 10]])\n",
    "    C = np.array([[0.1, 0.0, 0.0, 0.1], [0.0, 0.1, 0.0, 0.0], [0.0, 0.0, 0.1, 0.0], [0.1, 0.0, 0.0, 0.1]])\n",
    "    b = [23, 32, 33, 31]\n",
    "    k = 0.2\n",
    "\n",
    "    A = get_the_finished_matrix(k, D, C)\n",
    "    #print('\\n'.join(['\\t'.join([str(cell) for cell in row]) for row in A]))\n",
    "    U =matrix_decomposition(A);\n",
    "    U = np.array(U)\n",
    "    UT = U.transpose()\n",
    "\n",
    "    #print('\\n'.join(['\\t'.join([str(cell) for cell in row]) for row in U]))\n",
    "    #print('\\n')\n",
    "    #print('\\n'.join(['\\t'.join([str(cell) for cell in row]) for row in UT]))\n",
    "\n",
    "    y = find_vector_y(UT, b)\n",
    "    print(find_vector_x(U, y))\n"
   ]
  },
  {
   "cell_type": "code",
   "execution_count": 7,
   "id": "5b7c2f47",
   "metadata": {},
   "outputs": [
    {
     "name": "stdout",
     "output_type": "stream",
     "text": [
      "[[ 5.02        7.          6.          5.02      ]\n",
      " [ 0.          0.25904382 -0.36653386  0.        ]\n",
      " [ 0.          0.          2.33005844  3.        ]\n",
      " [ 0.          0.          0.          1.13743594]]\n",
      "3.446439999999981\n",
      "3.446439999999981\n"
     ]
    }
   ],
   "source": [
    "def det(a):\n",
    "    n = len(a)\n",
    "    l = np.zeros((n,n))\n",
    "    for k in range(n - 1):          \n",
    "        for i in range(k + 1, n):      \n",
    "            l[i][k] = a[i][k] / a[k][k]  \n",
    "            for j in range(n):           \n",
    "                a[i][j] = a[i][j] - l[i][k] * a[k][j]\n",
    "    \n",
    "    print(a)\n",
    "    det = 1\n",
    "    for t in range(n):\n",
    "        det *= a[t][t] \n",
    "    print(det)\n",
    "    return det\n",
    "\n",
    "det(A)\n",
    "print(np.linalg.det(A))"
   ]
  },
  {
   "cell_type": "code",
   "execution_count": 11,
   "id": "aa142d99",
   "metadata": {},
   "outputs": [
    {
     "data": {
      "text/plain": [
       "array([0.41942874, 1.3474774 , 1.14796718, 0.91121969])"
      ]
     },
     "execution_count": 11,
     "metadata": {},
     "output_type": "execute_result"
    }
   ],
   "source": [
    "import scipy\n",
    "D = np.array([[5, 7, 6, 5], [7, 10, 8, 7], [6, 8, 10, 9], [5, 7, 9, 10]])\n",
    "C = np.array([[0.1, 0.0, 0.0, 0.1], [0.0, 0.1, 0.0, 0.0], [0.0, 0.0, 0.1, 0.0], [0.1, 0.0, 0.0, 0.1]])\n",
    "b = [23, 32, 33, 31]\n",
    "k = 0.2\n",
    "B = get_the_finished_matrix(k, D, C)\n",
    "scipy.linalg.solve(B, b)"
   ]
  }
 ],
 "metadata": {
  "kernelspec": {
   "display_name": "Python 3 (ipykernel)",
   "language": "python",
   "name": "python3"
  },
  "language_info": {
   "codemirror_mode": {
    "name": "ipython",
    "version": 3
   },
   "file_extension": ".py",
   "mimetype": "text/x-python",
   "name": "python",
   "nbconvert_exporter": "python",
   "pygments_lexer": "ipython3",
   "version": "3.10.7"
  }
 },
 "nbformat": 4,
 "nbformat_minor": 5
}
