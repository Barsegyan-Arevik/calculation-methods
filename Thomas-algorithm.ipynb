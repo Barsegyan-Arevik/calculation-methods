{
 "cells": [
  {
   "cell_type": "markdown",
   "id": "f68a305f",
   "metadata": {},
   "source": [
    "<h2><b>Метод прогонки (или алгоритм Томаса)</b><h2>"
   ]
  },
  {
   "cell_type": "code",
   "execution_count": 1,
   "id": "ebc5095a",
   "metadata": {},
   "outputs": [],
   "source": [
    "import pandas as pd\n",
    "import numpy as np\n",
    "import matplotlib.pyplot  as plt\n",
    "import math\n",
    "from numpy.linalg import norm\n",
    "from tabulate import tabulate"
   ]
  },
  {
   "cell_type": "code",
   "execution_count": 7,
   "id": "cd0be769",
   "metadata": {},
   "outputs": [],
   "source": [
    "def looking_for_coefficients(segment, functions, conditions, n): \n",
    "    a,b = segment\n",
    "    alpha0,alpha1,beta0,beta1,a_condition,b_condition = conditions\n",
    "    k,p,q,f = functions\n",
    "    h = ((b-a)/n)\n",
    "    x = np.float_([a+i*h for i in range(n+1)])\n",
    "    A = np.float_([0,*[ 2 * k(x[i])-h*p(x[i]) for i in range(1,n)],-beta1])\n",
    "    B = np.float_([h*alpha0 - alpha1,*[-4 * k(x[i]) + 2 * h * h * q(x[i]) for i in range(1,n)], h*beta0+beta1])\n",
    "    C = np.float_([alpha1,*[2 * k(x[i]) + h * p(x[i]) for i in range(1,n)],0])\n",
    "    D = np.float_([h*a_condition,*[2 * h * h * f(x[i]) for i in range(1,n)],h*b_condition])\n",
    "    return A,B,C,D"
   ]
  },
  {
   "cell_type": "code",
   "execution_count": 8,
   "id": "69d8ab92",
   "metadata": {},
   "outputs": [],
   "source": [
    "def solution(segment, functions, conditions, n): \n",
    "    a,b = segment\n",
    "    h = ((b - a) / n)\n",
    "    A, B, C, D = looking_for_coefficients(segment, functions, conditions, n)\n",
    "    s,t,y = [np.zeros(n+1,dtype=float) for _ in range(3)]\n",
    "    s[0] = -C[0]/B[0]\n",
    "    t[0] = D[0]/B[0]\n",
    "    for i in range(1, n + 1):\n",
    "        s[i] = -C[i]/(A[i]*s[i-1]+B[i])\n",
    "        t[i] = (D[i]-A[i]*t[i-1])/(A[i]*s[i-1]+B[i])\n",
    "    y[n] = t[n]\n",
    "    for i in range(n-1,-1,-1):\n",
    "        y[i] = s[i]*y[i + 1]+t[i]\n",
    "    print(tabulate({'A' : A, 'B' : B, 'C' : C, 'D' : D, 's' : s, 't' : t, 'y' : y}, headers = 'keys'))\n",
    "    return y"
   ]
  },
  {
   "cell_type": "code",
   "execution_count": 9,
   "id": "0788f57b",
   "metadata": {},
   "outputs": [
    {
     "name": "stdout",
     "output_type": "stream",
     "text": [
      "  A      B    C       D          s            t          y\n",
      "---  -----  ---  ------  ---------  -----------  ---------\n",
      "  0   0.1     0   0      -0         0            0\n",
      "  2  -3.99    2  -0.002   0.501253  0.000501253  0.0175193\n",
      "  2  -3.99    2  -0.004   0.669457  0.00167448   0.033951\n",
      "  2  -3.99    2  -0.006   0.754408  0.00352647   0.0482129\n",
      "  2  -3.99    2  -0.008   0.806067  0.00606684   0.0592338\n",
      "  2  -3.99    2  -0.01    0.84109   0.00930821   0.0659585\n",
      "  2  -3.99    2  -0.012   0.866619  0.0132664    0.0673534\n",
      "  2  -3.99    2  -0.014   0.886225  0.0179606    0.0624116\n",
      "  2  -3.99    2  -0.016   0.901897  0.0234138    0.0501577\n",
      "  2  -3.99    2  -0.018   0.914826  0.029653     0.029653\n",
      "  0   0.1     0   0      -0         0            0\n"
     ]
    },
    {
     "data": {
      "text/plain": [
       "array([0.        , 0.01751929, 0.03395099, 0.04821293, 0.0592338 ,\n",
       "       0.06595851, 0.06735343, 0.06241157, 0.05015766, 0.02965296,\n",
       "       0.        ])"
      ]
     },
     "execution_count": 9,
     "metadata": {},
     "output_type": "execute_result"
    }
   ],
   "source": [
    "functions = [] #массив из наборов функций k,p,q,f\n",
    "functions.append([lambda x: 1,\n",
    "            lambda x: 0,\n",
    "            lambda x: 0.5,\n",
    "            lambda x: -x])\n",
    "\n",
    "\n",
    "conditions = [] #массив граничных условий\n",
    "conditions.append([1,0,1,0,0,0])\n",
    "\n",
    "segments = [] #массив отрезков\n",
    "segments.extend([[0,1]])\n",
    "\n",
    "solution(segments[0], functions[0], conditions[0], 10)"
   ]
  },
  {
   "cell_type": "markdown",
   "id": "b266a79f",
   "metadata": {},
   "source": [
    "Чтобы проверить корректность ответа, решаем уравнение с помощью какого-нибудь онлайн-калькулятора (н-р, https://mathforyou.net/online/calculus/cauchy/), рисуем график в desmos (https://www.desmos.com/calculator?lang=ru) и можно сверить результаты из таблицы с графиком :)"
   ]
  }
 ],
 "metadata": {
  "kernelspec": {
   "display_name": "Python 3 (ipykernel)",
   "language": "python",
   "name": "python3"
  },
  "language_info": {
   "codemirror_mode": {
    "name": "ipython",
    "version": 3
   },
   "file_extension": ".py",
   "mimetype": "text/x-python",
   "name": "python",
   "nbconvert_exporter": "python",
   "pygments_lexer": "ipython3",
   "version": "3.10.7"
  }
 },
 "nbformat": 4,
 "nbformat_minor": 5
}
