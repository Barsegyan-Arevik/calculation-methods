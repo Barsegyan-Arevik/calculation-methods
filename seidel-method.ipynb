{
 "cells": [
  {
   "cell_type": "markdown",
   "id": "7bfb07c0",
   "metadata": {},
   "source": [
    "<h3>Метод Зейделя решения СЛАУ</h3>"
   ]
  },
  {
   "cell_type": "code",
   "execution_count": 2,
   "id": "aadce9e3",
   "metadata": {},
   "outputs": [],
   "source": [
    "import numpy as np\n",
    "\n",
    "def to_the_sum_of_matrices(A, b):\n",
    "    n = len(A)\n",
    "    L = [[0 for x in range(n)] for y in range(n)]\n",
    "    D = [[0 for x in range(n)] for y in range(n)]\n",
    "    R = [[0 for x in range(n)] for y in range(n)]\n",
    "    \n",
    "    for i in range(n):\n",
    "        for j in range(n):\n",
    "            if (i < j):\n",
    "                R[i][j] = A[i][j]\n",
    "            if (i > j):\n",
    "                L[i][j] = A[i][j]\n",
    "            if (i == j):\n",
    "                D[i][j] = A[i][j]\n",
    "    \n",
    "    #print('\\n'.join(['\\t'.join([str(cell) for cell in row]) for row in R]))\n",
    "    #print('\\n'.join(['\\t'.join([str(cell) for cell in row]) for row in L]))\n",
    "    #print('\\n'.join(['\\t'.join([str(cell) for cell in row]) for row in D]))\n",
    "    \n",
    "    return L, D, R"
   ]
  },
  {
   "cell_type": "code",
   "execution_count": 3,
   "id": "3ddbea62",
   "metadata": {},
   "outputs": [],
   "source": [
    "def get_matrix_H(L, D, R):\n",
    "    n = len(L)\n",
    "    H = [[0 for x in range(n)]\n",
    "                for y in range(n)]\n",
    "    L = np.array(L)\n",
    "    D = np.array(D)\n",
    "    R = np.array(R)\n",
    "    negative = -1\n",
    "    total = L + D\n",
    "    negative_total = np.dot(negative, total)\n",
    "   \n",
    "    inv = np.linalg.inv(negative_total) \n",
    "       \n",
    "    answer = np.dot(inv, R)\n",
    "    return answer"
   ]
  },
  {
   "cell_type": "code",
   "execution_count": 4,
   "id": "6b8e9e2f",
   "metadata": {},
   "outputs": [],
   "source": [
    "def get_vector_g(L, D, b):\n",
    "    n = len(L)\n",
    "    g = [0 for x in range(n)]\n",
    "    \n",
    "    L = np.array(L)\n",
    "    D = np.array(D)\n",
    "\n",
    "    total = L + D\n",
    "    inv = np.linalg.inv(total) \n",
    "        \n",
    "    g = np.dot(inv, b)\n",
    "    return g"
   ]
  },
  {
   "cell_type": "code",
   "execution_count": 5,
   "id": "ba78878e",
   "metadata": {},
   "outputs": [],
   "source": [
    "def get_vector_x(A, b, iterations):\n",
    "    n = len(A)\n",
    "    L, D, R = to_the_sum_of_matrices(A, b)\n",
    "    H = get_matrix_H(L, D, R)\n",
    "    g = get_vector_g(L, D, b)\n",
    "    x = [0.0 for i in range(n)]\n",
    "    for iterator in range(iterations):\n",
    "        x_new = np.copy(x)\n",
    "        for i in range(n):\n",
    "            s1 = sum(H[i][j] * x_new[j] for j in range(i))\n",
    "            s2 = sum(H[i][j] * x[j] for j in range(i, n))\n",
    "            x_new[i] = s1 + s2 + g[i]\n",
    "        x = x_new\n",
    "    return x"
   ]
  },
  {
   "cell_type": "code",
   "execution_count": 6,
   "id": "e1e61058",
   "metadata": {},
   "outputs": [],
   "source": [
    "def get_the_finished_matrix(scalar, D, C):\n",
    "    n = len(C)\n",
    "    numrows = len(C)   \n",
    "    numcols = len(C[0])\n",
    "\n",
    "    for numrow in range(numrows):\n",
    "        for numkol in range(numcols):\n",
    "            C[numrow][numkol] = round(scalar*C[numrow][numkol], 2)\n",
    "    \n",
    "    A = D + C\n",
    "    return A"
   ]
  },
  {
   "cell_type": "code",
   "execution_count": 7,
   "id": "05a5407f",
   "metadata": {},
   "outputs": [
    {
     "name": "stdout",
     "output_type": "stream",
     "text": [
      "При выполнении 7 итераций, вектор x1 = [0.85514483 0.67483961 1.07074155 0.71806019]\n",
      "При выполнении 15 итераций, вектор x1 = [0.85500145 0.67493427 1.07068166 0.71809172]\n",
      "При выполнении 1000 итераций, вектор x1 = [0.85500145 0.67493427 1.07068166 0.71809172]\n"
     ]
    }
   ],
   "source": [
    "if __name__ == \"__main__\":\n",
    "    D = np.array([[6.22, 1.44, -1.72, 1.91], [1.44, 5.33, 1.11, -1.82], [-1.72, 1.11, 5.24, 1.42], [1.91, -1.827, 1.42, 6.55]])\n",
    "    C = np.array([[1, 0, 0, 0], [0, 1, 0, 0], [0, 0, 1, 0], [0, 0, 0, 1]])\n",
    "    b = [7.53, 6.06, 8.05, 8.06]\n",
    "    k = 2\n",
    "\n",
    "    A = get_the_finished_matrix(k, D, C)\n",
    "\n",
    "    iterator_1 = 7\n",
    "    iterator_2 = 15\n",
    "    iterator_3 = 1000\n",
    "\n",
    "    x_1 = get_vector_x(A, b, iterator_1)\n",
    "    x_2 = get_vector_x(A, b, iterator_2)\n",
    "    x_3 = get_vector_x(A, b, iterator_3)\n",
    "\n",
    "    print(f'При выполнении {iterator_1} итераций, вектор x1 = {x_1}')\n",
    "    print(f'При выполнении {iterator_2} итераций, вектор x1 = {x_2}')\n",
    "    print(f'При выполнении {iterator_3} итераций, вектор x1 = {x_3}')\n"
   ]
  },
  {
   "cell_type": "code",
   "execution_count": 8,
   "id": "a47b6d47",
   "metadata": {},
   "outputs": [
    {
     "data": {
      "text/plain": [
       "array([0.85500145, 0.67493427, 1.07068166, 0.71809172])"
      ]
     },
     "execution_count": 8,
     "metadata": {},
     "output_type": "execute_result"
    }
   ],
   "source": [
    "import scipy\n",
    "\n",
    "D = np.array([[6.22, 1.44, -1.72, 1.91], [1.44, 5.33, 1.11, -1.82], [-1.72, 1.11, 5.24, 1.42], [1.91, -1.827, 1.42, 6.55]])\n",
    "C = np.array([[1, 0, 0, 0], [0, 1, 0, 0], [0, 0, 1, 0], [0, 0, 0, 1]])\n",
    "b = [7.53, 6.06, 8.05, 8.06]\n",
    "k = 2\n",
    "\n",
    "B = get_the_finished_matrix(k, D, C)\n",
    "scipy.linalg.solve(B, b)"
   ]
  }
 ],
 "metadata": {
  "kernelspec": {
   "display_name": "Python 3 (ipykernel)",
   "language": "python",
   "name": "python3"
  },
  "language_info": {
   "codemirror_mode": {
    "name": "ipython",
    "version": 3
   },
   "file_extension": ".py",
   "mimetype": "text/x-python",
   "name": "python",
   "nbconvert_exporter": "python",
   "pygments_lexer": "ipython3",
   "version": "3.10.7"
  }
 },
 "nbformat": 4,
 "nbformat_minor": 5
}
