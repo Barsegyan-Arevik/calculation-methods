{
 "cells": [
  {
   "cell_type": "markdown",
   "id": "563a98bd",
   "metadata": {},
   "source": [
    "<h2><b>Метод прогонки (или алгоритм Томаса)</b><h2>"
   ]
  },
  {
   "cell_type": "code",
   "execution_count": 13,
   "id": "2bc968d0",
   "metadata": {},
   "outputs": [],
   "source": [
    "import numpy as np\n",
    "import math\n",
    "from tabulate import tabulate"
   ]
  },
  {
   "cell_type": "code",
   "execution_count": 20,
   "id": "d1b3b2eb",
   "metadata": {},
   "outputs": [],
   "source": [
    "def looking_for_coefficients(segment, functions, conditions, N): \n",
    "    a,b = segment\n",
    "    alpha_1,alpha_2,beta_0,beta_1,a_condition,b_condition = conditions\n",
    "    k,p,q,f = functions\n",
    "    h = ((b-a)/N)\n",
    "    x = np.float_([a + i*h for i in range(N + 1)])\n",
    "    A = np.float_([0, \n",
    "                   *[2*k(x[i])-h*p(x[i]) for i in range(1, N)],\n",
    "                   -beta_1])\n",
    "    \n",
    "    B = np.float_([h*alpha_1 - alpha_2, \n",
    "                   *[-4 * k(x[i]) + 2*h*h*q(x[i]) for i in range(1, N)], \n",
    "                   h*beta_0 + beta_1])\n",
    "    \n",
    "    C = np.float_([alpha_2,\n",
    "                   *[2*k(x[i]) + h*p(x[i]) for i in range(1, N)],\n",
    "                   0])\n",
    "    \n",
    "    D = np.float_([h*a_condition,\n",
    "                   *[2*h*h*f(x[i]) for i in range(1, N)],\n",
    "                   h*b_condition])\n",
    "    \n",
    "    return A,B,C,D"
   ]
  },
  {
   "cell_type": "code",
   "execution_count": 21,
   "id": "8ae32d76",
   "metadata": {},
   "outputs": [],
   "source": [
    "def solution(segment, functions, conditions, N): \n",
    "    a,b = segment\n",
    "    h = ((b - a) / N)\n",
    "    A, B, C, D = looking_for_coefficients(segment, functions, conditions, N)\n",
    "    s,t,y = [np.zeros(n+1,dtype=float) for _ in range(3)]\n",
    "    s[0] = -C[0]/B[0]\n",
    "    t[0] = D[0]/B[0]\n",
    "    for i in range(1, N + 1):\n",
    "        s[i] = -C[i]/(A[i]*s[i-1]+B[i])\n",
    "        t[i] = (D[i]-A[i]*t[i-1])/(A[i]*s[i-1]+B[i])\n",
    "    y[N] = t[N]\n",
    "    for i in range(N-1,-1,-1):\n",
    "        y[i] = s[i]*y[i + 1]+t[i]\n",
    "    print(tabulate({'A' : A, 'B' : B, 'C' : C, 'D' : D, 's' : s, 't' : t, 'y' : y}, headers = 'keys'))\n",
    "    return y"
   ]
  },
  {
   "cell_type": "markdown",
   "id": "4bbfd601",
   "metadata": {},
   "source": [
    "Массив из наборов функций k,p,q,f"
   ]
  },
  {
   "cell_type": "code",
   "execution_count": 26,
   "id": "6f23c791",
   "metadata": {},
   "outputs": [],
   "source": [
    "functions = []\n",
    "functions.append([lambda x: 1,\n",
    "            lambda x: 0,\n",
    "            lambda x: 0.5,\n",
    "            lambda x: -x])"
   ]
  },
  {
   "cell_type": "markdown",
   "id": "00f21f3a",
   "metadata": {},
   "source": [
    "Массив граничных условий"
   ]
  },
  {
   "cell_type": "code",
   "execution_count": 27,
   "id": "f9e811a0",
   "metadata": {},
   "outputs": [],
   "source": [
    "conditions = [] \n",
    "conditions.append([1,0,1,0,0,0])\n"
   ]
  },
  {
   "cell_type": "markdown",
   "id": "cc208a4b",
   "metadata": {},
   "source": [
    "Массив отрезков"
   ]
  },
  {
   "cell_type": "code",
   "execution_count": 28,
   "id": "fa017674",
   "metadata": {},
   "outputs": [
    {
     "name": "stdout",
     "output_type": "stream",
     "text": [
      "  A      B    C       D          s            t          y\n",
      "---  -----  ---  ------  ---------  -----------  ---------\n",
      "  0   0.1     0   0      -0         0            0\n",
      "  2  -3.99    2  -0.002   0.501253  0.000501253  0.0175193\n",
      "  2  -3.99    2  -0.004   0.669457  0.00167448   0.033951\n",
      "  2  -3.99    2  -0.006   0.754408  0.00352647   0.0482129\n",
      "  2  -3.99    2  -0.008   0.806067  0.00606684   0.0592338\n",
      "  2  -3.99    2  -0.01    0.84109   0.00930821   0.0659585\n",
      "  2  -3.99    2  -0.012   0.866619  0.0132664    0.0673534\n",
      "  2  -3.99    2  -0.014   0.886225  0.0179606    0.0624116\n",
      "  2  -3.99    2  -0.016   0.901897  0.0234138    0.0501577\n",
      "  2  -3.99    2  -0.018   0.914826  0.029653     0.029653\n",
      "  0   0.1     0   0      -0         0            0\n"
     ]
    },
    {
     "data": {
      "text/plain": [
       "array([0.        , 0.01751929, 0.03395099, 0.04821293, 0.0592338 ,\n",
       "       0.06595851, 0.06735343, 0.06241157, 0.05015766, 0.02965296,\n",
       "       0.        ])"
      ]
     },
     "execution_count": 28,
     "metadata": {},
     "output_type": "execute_result"
    }
   ],
   "source": [
    "segments = [] #массив отрезков\n",
    "segments.extend([[0,1]])\n",
    "\n",
    "solution(segments[0], functions[0], conditions[0], 10)"
   ]
  },
  {
   "cell_type": "markdown",
   "id": "7f4008dd",
   "metadata": {},
   "source": [
    "Чтобы проверить корректность ответа, решаем уравнение с помощью какого-нибудь онлайн-калькулятора (н-р, https://mathforyou.net/online/calculus/cauchy/), рисуем график в desmos (https://www.desmos.com/calculator?lang=ru) и можно сверить результаты из таблицы с графиком :)"
   ]
  }
 ],
 "metadata": {
  "kernelspec": {
   "display_name": "Python 3 (ipykernel)",
   "language": "python",
   "name": "python3"
  },
  "language_info": {
   "codemirror_mode": {
    "name": "ipython",
    "version": 3
   },
   "file_extension": ".py",
   "mimetype": "text/x-python",
   "name": "python",
   "nbconvert_exporter": "python",
   "pygments_lexer": "ipython3",
   "version": "3.10.7"
  }
 },
 "nbformat": 4,
 "nbformat_minor": 5
}
