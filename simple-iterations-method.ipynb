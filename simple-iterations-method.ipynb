{
 "cells": [
  {
   "cell_type": "markdown",
   "id": "a06eb896",
   "metadata": {},
   "source": [
    "<h3>Метод простой итерации</h3>"
   ]
  },
  {
   "cell_type": "markdown",
   "id": "86dbb13a",
   "metadata": {},
   "source": [
    "Алгоритм  метода простой итерации\n",
    "<ol>\n",
    "<li> привести систему к виду <b>𝑥 = 𝐻𝑥 + 𝑔</b> </li>\n",
    "<li> выбрать в качестве начального приближения <b>нулевой вектор</b> или <b>вектор 𝑔</b> </li>\n",
    "<li> Найти решение системы с количеством итераций 𝑘 = 15 </li>\n",
    "</ol>"
   ]
  },
  {
   "cell_type": "code",
   "execution_count": 2,
   "id": "d1386c0d",
   "metadata": {},
   "outputs": [],
   "source": [
    "import numpy as np\n",
    "\n",
    "def get_matrix_H(A):\n",
    "    n = len(A)\n",
    "    H = [[0 for x in range(n)]\n",
    "                for y in range(n)]\n",
    "    \n",
    "    for i in range(n):\n",
    "           for j in range(n):\n",
    "                if (i == j):\n",
    "                    H[i][j] = 0\n",
    "                else:\n",
    "                    H[i][j] = -A[i][j]/A[i][i]\n",
    "    return H\n",
    "    \n",
    "def get_vector_g(A, b):\n",
    "    n = len(A)\n",
    "    g = [0.0 for i in range(n)]\n",
    "    \n",
    "    for i in range(n):\n",
    "        g[i] = b[i]/A[i][i]    \n",
    "    return g\n",
    "    \n",
    "def get_vector_x(A, b, iterations):\n",
    "    n = len(A)\n",
    "    H = get_matrix_H(A)\n",
    "    g = get_vector_g(A, b)\n",
    "    x = [0.0 for i in range(n)]\n",
    "    \n",
    "    for k in range(iterations):\n",
    "        for i in range(n):\n",
    "            sum = 0\n",
    "            for j in range(n):\n",
    "                sum += H[i][j]*x[j]\n",
    "            x[i] = sum + g[i]\n",
    "    return x"
   ]
  },
  {
   "cell_type": "code",
   "execution_count": 3,
   "id": "c6315d7c",
   "metadata": {},
   "outputs": [],
   "source": [
    "def get_the_finished_matrix(scalar, D, C):\n",
    "    n = len(C)\n",
    "    numrows = len(C)   \n",
    "    numcols = len(C[0])\n",
    "\n",
    "    for numrow in range(numrows):\n",
    "        for numkol in range(numcols):\n",
    "            C[numrow][numkol] = round(scalar*C[numrow][numkol], 2)\n",
    "    \n",
    "    A = D + C\n",
    "    return A"
   ]
  },
  {
   "cell_type": "code",
   "execution_count": 5,
   "id": "29029dc7",
   "metadata": {},
   "outputs": [
    {
     "name": "stdout",
     "output_type": "stream",
     "text": [
      "[0.8550016007168948, 0.6749341545771044, 1.0706817513622655, 0.7180916439893197]\n"
     ]
    }
   ],
   "source": [
    "if __name__ == \"__main__\":\n",
    "    D = np.array([[6.22, 1.44, -1.72, 1.91], [1.44, 5.33, 1.11, -1.82], [-1.72, 1.11, 5.24, 1.42], [1.91, -1.827, 1.42, 6.55]])\n",
    "    C = np.array([[1, 0, 0, 0], [0, 1, 0, 0], [0, 0, 1, 0], [0, 0, 0, 1]])\n",
    "    b = [7.53, 6.06, 8.05, 8.06]\n",
    "    k = 2\n",
    "\n",
    "    A = get_the_finished_matrix(k, D, C)\n",
    "    #print('Матрица A')\n",
    "    #print('\\n'.join(['\\t'.join([str(cell) for cell in row]) for row in A]))\n",
    "\n",
    "    iterations = 15\n",
    "    print(get_vector_x(A, b, iterations))"
   ]
  },
  {
   "cell_type": "code",
   "execution_count": 6,
   "id": "2f450a22",
   "metadata": {},
   "outputs": [
    {
     "data": {
      "text/plain": [
       "array([0.85500145, 0.67493427, 1.07068166, 0.71809172])"
      ]
     },
     "execution_count": 6,
     "metadata": {},
     "output_type": "execute_result"
    }
   ],
   "source": [
    "import scipy\n",
    "scipy.linalg.solve(A, b)"
   ]
  }
 ],
 "metadata": {
  "kernelspec": {
   "display_name": "Python 3 (ipykernel)",
   "language": "python",
   "name": "python3"
  },
  "language_info": {
   "codemirror_mode": {
    "name": "ipython",
    "version": 3
   },
   "file_extension": ".py",
   "mimetype": "text/x-python",
   "name": "python",
   "nbconvert_exporter": "python",
   "pygments_lexer": "ipython3",
   "version": "3.10.7"
  }
 },
 "nbformat": 4,
 "nbformat_minor": 5
}
