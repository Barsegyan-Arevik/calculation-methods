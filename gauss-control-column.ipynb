{
 "cells": [
  {
   "cell_type": "markdown",
   "id": "c3d29b3b",
   "metadata": {},
   "source": [
    "<h3>Методом исключения Гаусса с контрольным столбцом</h3>"
   ]
  },
  {
   "cell_type": "code",
   "execution_count": 9,
   "id": "10258ec5",
   "metadata": {},
   "outputs": [
    {
     "name": "stdout",
     "output_type": "stream",
     "text": [
      "[[ 2.7 -4.5 -2. ]\n",
      " [ 3.   3.1  4.3]\n",
      " [-6.   3.5  3.1]]\n",
      "[ 1.86400743 -4.22781971  2.49400437]\n"
     ]
    }
   ],
   "source": [
    "def gauss(a, b):   \n",
    "    m, n = a.shape # Количество строк и столбцов матрицы a\n",
    "   \n",
    "     # j означает столбец\n",
    "    l = np.zeros((n,n))\n",
    "    for k in range(n - 1):          \n",
    "        for i in range(k + 1, n):      \n",
    "            l[i][k] = a[i][k] / a[k][k]  \n",
    "            for j in range(m):           \n",
    "                a[i][j] = a[i][j] - l[i][k] * a[k][j]\n",
    "\n",
    "            b[i] = b[i] - l[i][k] * b[k]\n",
    "        \n",
    "    x = np.zeros(n)                                              \n",
    "    x[n - 1] = b[n - 1] / a[n - 1][n - 1]  \n",
    "\n",
    "    for i in range(n - 2, -1, -1):         \n",
    "        for j in range(i + 1, n):\n",
    "            b[i] -= a[i][j] * x[j]         \n",
    "        x[i] = b[i] / a[i][i]\n",
    "\n",
    "    return x\n",
    "\n",
    "        \n",
    "if __name__ == '__main__':            \n",
    "    D = np.array([[2.1, -4.5, -2.0], [3.0, 2.5, 4.3], [-6.0, 3.5, 2.5]])\n",
    "    C = np.array([[0.1, 0.0, 0.0], [0.0, 0.1, 0.0], [0.0, 0.0, 0.1]])\n",
    "    b = [19.07, 3.21, -18.25]\n",
    "    k = 6\n",
    "    A = get_the_finished_matrix(k, D, C)  \n",
    "    print(A)\n",
    "    print(gauss(A, b)) "
   ]
  },
  {
   "cell_type": "code",
   "execution_count": 8,
   "id": "4770c4e9",
   "metadata": {},
   "outputs": [
    {
     "name": "stdout",
     "output_type": "stream",
     "text": [
      "[[ 2.7 -4.5 -2. ]\n",
      " [ 3.   3.1  4.3]\n",
      " [-6.   3.5  3.1]]\n"
     ]
    },
    {
     "data": {
      "text/plain": [
       "array([ 1.86400743, -4.22781971,  2.49400437])"
      ]
     },
     "execution_count": 8,
     "metadata": {},
     "output_type": "execute_result"
    }
   ],
   "source": [
    "import scipy\n",
    "\n",
    "D = np.array([[2.1, -4.5, -2.0], [3.0, 2.5, 4.3], [-6.0, 3.5, 2.5]])\n",
    "C = np.array([[0.1, 0.0, 0.0], [0.0, 0.1, 0.0], [0.0, 0.0, 0.1]])\n",
    "b = [19.07, 3.21, -18.25]\n",
    "k = 6\n",
    "B = get_the_finished_matrix(k, D, C)  \n",
    "print(B)\n",
    "\n",
    "scipy.linalg.solve(B, b)"
   ]
  },
  {
   "cell_type": "code",
   "execution_count": 4,
   "id": "fede3890",
   "metadata": {},
   "outputs": [],
   "source": [
    "def get_the_finished_matrix(scalar, D, C):\n",
    "    n = len(C)\n",
    "    numrows = len(C)   \n",
    "    numcols = len(C[0])\n",
    "    \n",
    "    for numrow in range(numrows):\n",
    "        for numkol in range(numcols):\n",
    "            C[numrow][numkol] = round(scalar*C[numrow][numkol], 2)\n",
    "    \n",
    "    A = D + C\n",
    "    return A"
   ]
  }
 ],
 "metadata": {
  "kernelspec": {
   "display_name": "Python 3 (ipykernel)",
   "language": "python",
   "name": "python3"
  },
  "language_info": {
   "codemirror_mode": {
    "name": "ipython",
    "version": 3
   },
   "file_extension": ".py",
   "mimetype": "text/x-python",
   "name": "python",
   "nbconvert_exporter": "python",
   "pygments_lexer": "ipython3",
   "version": "3.10.7"
  }
 },
 "nbformat": 4,
 "nbformat_minor": 5
}
